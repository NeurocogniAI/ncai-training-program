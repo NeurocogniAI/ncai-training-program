{
 "cells": [
  {
   "cell_type": "markdown",
   "id": "c52c3be6",
   "metadata": {},
   "source": [
    "## Create Numpy Arrays Using Lists or Tuples\n"
   ]
  },
  {
   "cell_type": "code",
   "execution_count": 5,
   "id": "5b2ea94c",
   "metadata": {},
   "outputs": [
    {
     "name": "stdout",
     "output_type": "stream",
     "text": [
      "Simple NumPy Array: [1 2 3 4 5 6]\n"
     ]
    }
   ],
   "source": [
    "import numpy as np\n",
    "\n",
    "my_list = [1, 2, 3, 4, 5,6]\n",
    "numpy_array = np.array(my_list)\n",
    "print(\"Simple NumPy Array:\",numpy_array)"
   ]
  },
  {
   "cell_type": "markdown",
   "id": "ba699d57",
   "metadata": {},
   "source": [
    "## Initialize a Python NumPy Array Using Special Functions\n"
   ]
  },
  {
   "cell_type": "markdown",
   "id": "8e999f81",
   "metadata": {},
   "source": [
    "## NumPy provides several built-in functions to generate arrays with specific properties.\n",
    "\n",
    "np.zeros(): Creates an array filled with zeros.\n",
    "\n",
    "np.ones(): Creates an array filled with ones.\n",
    "\n",
    "np.full(): Creates an array filled with a specified value.\n",
    "\n",
    "np.arange(): Creates an array with values that are evenly spaced within a given range.\n",
    "\n",
    "np.linspace(): Creates an array with values that are evenly spaced over a specified interval.\n"
   ]
  },
  {
   "cell_type": "code",
   "execution_count": 6,
   "id": "62da7019",
   "metadata": {},
   "outputs": [
    {
     "name": "stdout",
     "output_type": "stream",
     "text": [
      "Zero Array: \n",
      " [[0. 0. 0.]\n",
      " [0. 0. 0.]]\n",
      "Ones Array: \n",
      " [[1. 1. 1.]\n",
      " [1. 1. 1.]\n",
      " [1. 1. 1.]]\n",
      "Constant Array: \n",
      " [[7 7]\n",
      " [7 7]]\n",
      "Range Array: \n",
      " [0 2 4 6 8]\n",
      "Linspace Array: \n",
      " [0.   0.25 0.5  0.75 1.  ]\n"
     ]
    }
   ],
   "source": [
    "import numpy as np\n",
    "\n",
    "zeros_array = np.zeros((2, 3))\n",
    "ones_array = np.ones((3, 3))\n",
    "constant_array = np.full((2, 2), 7)\n",
    "range_array = np.arange(0, 10, 2)  # start, stop, step\n",
    "linspace_array = np.linspace(0, 1, 5)  # start, stop, num\n",
    "\n",
    "print(\"Zero Array:\",\"\\n\",zeros_array)\n",
    "print(\"Ones Array:\",\"\\n\",ones_array)\n",
    "print(\"Constant Array:\",\"\\n\",constant_array)\n",
    "print(\"Range Array:\",\"\\n\",range_array)\n",
    "print(\"Linspace Array:\",\"\\n\",linspace_array)"
   ]
  },
  {
   "cell_type": "markdown",
   "id": "06cbd15a",
   "metadata": {},
   "source": [
    "## Create Python Numpy Arrays Using Random Number Generation\n"
   ]
  },
  {
   "cell_type": "markdown",
   "id": "452d0091",
   "metadata": {},
   "source": [
    "## NumPy provides functions to create arrays filled with random numbers.\n",
    "\n",
    "np.random.rand(): Creates an array of specified shape and fills it with random values sampled from a uniform distribution over [0, 1).\n",
    "\n",
    "np.random.randn(): Creates an array of specified shape and fills it with random values sampled from a standard normal distribution.\n",
    "\n",
    "np.random.randint(): Creates an array of specified shape and fills it with random integers within a given range.\n"
   ]
  },
  {
   "cell_type": "code",
   "execution_count": 7,
   "id": "4ac13bab",
   "metadata": {},
   "outputs": [
    {
     "name": "stdout",
     "output_type": "stream",
     "text": [
      "[[0.8733695  0.91227109 0.53303972]\n",
      " [0.1820421  0.6551971  0.05536353]]\n",
      "[[-1.19704269  1.22427711]\n",
      " [-0.01460523 -1.5319301 ]]\n",
      "[[2 5 1]\n",
      " [9 3 8]]\n"
     ]
    }
   ],
   "source": [
    "import numpy as np\n",
    "\n",
    "random_array = np.random.rand(2, 3)\n",
    "normal_array = np.random.randn(2, 2)\n",
    "randint_array = np.random.randint(1, 10, size=(2, 3))  \n",
    "\n",
    "print(random_array)\n",
    "print(normal_array)\n",
    "print(randint_array)"
   ]
  },
  {
   "cell_type": "markdown",
   "id": "b1afd8c8",
   "metadata": {},
   "source": [
    "## Create Python Numpy Arrays Using Matrix Creation Routines\n"
   ]
  },
  {
   "cell_type": "markdown",
   "id": "f5650591",
   "metadata": {},
   "source": [
    "## NumPy provides functions to create specific types of matrices.\n",
    "\n",
    "np.eye(): Creates an identity matrix of specified size.\n",
    "np.diag(): Constructs a diagonal array.\n",
    "np.zeros_like(): Creates an array of zeros with the same shape and type as a given array.\n",
    "np.ones_like(): Creates an array of ones with the same shape and type as a given array.\n"
   ]
  },
  {
   "cell_type": "code",
   "execution_count": 10,
   "id": "05e45c3b",
   "metadata": {},
   "outputs": [
    {
     "name": "stdout",
     "output_type": "stream",
     "text": [
      "[[1. 0. 0.]\n",
      " [0. 1. 0.]\n",
      " [0. 0. 1.]]\n",
      "[[1 0 0]\n",
      " [0 2 0]\n",
      " [0 0 3]]\n",
      "[[0 0 0]\n",
      " [0 0 0]\n",
      " [0 0 0]]\n",
      "[[1 1 1]\n",
      " [1 1 1]\n",
      " [1 1 1]]\n"
     ]
    }
   ],
   "source": [
    "import numpy as np\n",
    "\n",
    "identity_matrix = np.eye(3)\n",
    "diagonal_array = np.diag([1, 2, 3])\n",
    "zeros_like_array = np.zeros_like(diagonal_array)\n",
    "ones_like_array = np.ones_like(diagonal_array)\n",
    "\n",
    "print(identity_matrix)\n",
    "print(diagonal_array)\n",
    "print(zeros_like_array)\n",
    "print(ones_like_array)"
   ]
  },
  {
   "cell_type": "markdown",
   "id": "5535d5a9",
   "metadata": {},
   "source": [
    "## Numpy Array Indexing\n"
   ]
  },
  {
   "cell_type": "markdown",
   "id": "9404e849",
   "metadata": {},
   "source": [
    "### Array Indexing in NumPy is used to access or modify specific elements of an array.\n",
    "\n",
    "### Accessing 1D Array\n",
    "\n",
    "In a 1D array, we can access elements using their zero-based index:\n"
   ]
  },
  {
   "cell_type": "code",
   "execution_count": 11,
   "id": "23ce1c22",
   "metadata": {},
   "outputs": [
    {
     "name": "stdout",
     "output_type": "stream",
     "text": [
      "50\n"
     ]
    }
   ],
   "source": [
    "import numpy as np\n",
    "\n",
    "# Create a 1D NumPy array with five elements\n",
    "arr = np.array([10, 20, 30, 40, 50])\n",
    "\n",
    "# Access and print the first element of the array\n",
    "print(arr[4])"
   ]
  },
  {
   "cell_type": "markdown",
   "id": "17b7d7e7",
   "metadata": {},
   "source": [
    "### Access 2-D Array\n",
    "\n",
    "To access elements, you specify the row index first and the column index second.\n"
   ]
  },
  {
   "cell_type": "code",
   "execution_count": 12,
   "id": "914c7d78",
   "metadata": {},
   "outputs": [
    {
     "name": "stdout",
     "output_type": "stream",
     "text": [
      "6\n"
     ]
    }
   ],
   "source": [
    "import numpy as np \n",
    "\n",
    "# Define a 2D array\n",
    "matrix = np.array([[1, 2, 3], [4, 5, 6], [7, 8, 9]])\n",
    "\n",
    "# Access the element at row 1, column 2 \n",
    "print(matrix[1, 2])"
   ]
  },
  {
   "cell_type": "markdown",
   "id": "aabc9d6c",
   "metadata": {},
   "source": [
    "### Accessing 3D Arrays\n",
    "\n",
    "A 3D array can be visualized as a stack of 2D arrays. We need three indices:\n",
    "\n",
    "Depth: Specifies the 2D slice.\n",
    "Row: Specifies the row within the slice.\n",
    "Column: Specifies the column within the row.\n"
   ]
  },
  {
   "cell_type": "code",
   "execution_count": 13,
   "id": "22bcc6b3",
   "metadata": {},
   "outputs": [
    {
     "name": "stdout",
     "output_type": "stream",
     "text": [
      "16\n"
     ]
    }
   ],
   "source": [
    "import numpy as np\n",
    "\n",
    "cube = np.array([[[1, 2, 3],\n",
    "                  [4, 5, 6],\n",
    "                  [7, 8, 9]],\n",
    "                 \n",
    "                 [[10, 11, 12],\n",
    "                  [13, 14, 15],\n",
    "                  [16, 17, 18]]])\n",
    "\n",
    "# Access the element at depth 1, row 2, column 0\n",
    "print(cube[1, 2, 0])"
   ]
  },
  {
   "cell_type": "markdown",
   "id": "9eaf567c",
   "metadata": {},
   "source": [
    "### Slicing Arrays\n",
    "\n",
    "We can extract a subset of elements using the start:stop:step syntax:\n"
   ]
  },
  {
   "cell_type": "code",
   "execution_count": 16,
   "id": "e093eff6",
   "metadata": {},
   "outputs": [
    {
     "name": "stdout",
     "output_type": "stream",
     "text": [
      "[0 1 2 3 4]\n"
     ]
    }
   ],
   "source": [
    "import numpy as np\n",
    "\n",
    "# Create a 1D NumPy array with six elements\n",
    "arr = np.array([0, 1, 2, 3, 4, 5])\n",
    "\n",
    "# Use slicing to access a subset of the array\n",
    "print(arr[0:5])"
   ]
  },
  {
   "cell_type": "markdown",
   "id": "8734d262",
   "metadata": {},
   "source": [
    "### For multidimensional arrays, slicing can be applied to each dimension:\n"
   ]
  },
  {
   "cell_type": "code",
   "execution_count": 17,
   "id": "adb31fbd",
   "metadata": {},
   "outputs": [
    {
     "name": "stdout",
     "output_type": "stream",
     "text": [
      "[[2 3]\n",
      " [5 6]]\n"
     ]
    }
   ],
   "source": [
    "import numpy as np\n",
    "\n",
    "# Create a 2D NumPy array (matrix) with three rows and three columns\n",
    "matrix = np.array([[1, 2, 3], [4, 5, 6], [7, 8, 9]])\n",
    "\n",
    "# Use slicing to extract a submatrix\n",
    "print(matrix[0:2, 1:3])"
   ]
  }
 ],
 "metadata": {
  "kernelspec": {
   "display_name": "Python 3",
   "language": "python",
   "name": "python3"
  },
  "language_info": {
   "codemirror_mode": {
    "name": "ipython",
    "version": 3
   },
   "file_extension": ".py",
   "mimetype": "text/x-python",
   "name": "python",
   "nbconvert_exporter": "python",
   "pygments_lexer": "ipython3",
   "version": "3.12.0"
  }
 },
 "nbformat": 4,
 "nbformat_minor": 5
}
