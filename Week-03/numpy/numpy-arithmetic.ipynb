{
 "cells": [
  {
   "cell_type": "markdown",
   "id": "405a9d30",
   "metadata": {},
   "source": [
    "### NumPy – Arithmetic Operations"
   ]
  },
  {
   "cell_type": "markdown",
   "id": "f0d45064",
   "metadata": {},
   "source": [
    "### Addition"
   ]
  },
  {
   "cell_type": "code",
   "execution_count": 1,
   "id": "6b404821",
   "metadata": {},
   "outputs": [
    {
     "name": "stdout",
     "output_type": "stream",
     "text": [
      "[  7  77  23 130]\n",
      "[  7  77  23 130]\n",
      "[  8  79  26 134]\n",
      "[  7  77  23 130]\n"
     ]
    }
   ],
   "source": [
    "import numpy as np\n",
    "\n",
    "# Defining both the matrices\n",
    "a = np.array([5, 72, 13, 100])\n",
    "b = np.array([2, 5, 10, 30])\n",
    "\n",
    "# Performing addition using arithmetic operator\n",
    "add_ans = a+b\n",
    "print(add_ans)\n",
    "\n",
    "# Performing addition using numpy function\n",
    "add_ans = np.add(a, b)\n",
    "print(add_ans)\n",
    "\n",
    "# this would work\n",
    "c = np.array([1, 2, 3, 4])\n",
    "add_ans = a+b+c\n",
    "print(add_ans)\n",
    "\n",
    "# but here NumPy only considers the first two arrays (a and b) and ignores the third one (c).\n",
    "add_ans = np.add(a, b, c)\n",
    "print(add_ans)\n"
   ]
  },
  {
   "cell_type": "markdown",
   "id": "2113e021",
   "metadata": {},
   "source": [
    "### Subtraction"
   ]
  },
  {
   "cell_type": "code",
   "execution_count": 2,
   "id": "dcec3e8a",
   "metadata": {},
   "outputs": [
    {
     "name": "stdout",
     "output_type": "stream",
     "text": [
      "[ 3 67  3 70]\n",
      "[ 3 67  3 70]\n"
     ]
    }
   ],
   "source": [
    "import numpy as np\n",
    "\n",
    "# Defining both the matrices\n",
    "a = np.array([5, 72, 13, 100])\n",
    "b = np.array([2, 5, 10, 30])\n",
    "\n",
    "# Performing subtraction using arithmetic operator\n",
    "sub_ans = a-b\n",
    "print(sub_ans)\n",
    "\n",
    "# Performing subtraction using numpy function\n",
    "sub_ans = np.subtract(a, b)\n",
    "print(sub_ans)\n"
   ]
  },
  {
   "cell_type": "markdown",
   "id": "ae975982",
   "metadata": {},
   "source": [
    "### Multiplication"
   ]
  },
  {
   "cell_type": "code",
   "execution_count": 3,
   "id": "8d0c81e5",
   "metadata": {},
   "outputs": [
    {
     "name": "stdout",
     "output_type": "stream",
     "text": [
      "[  10  360  130 3000]\n",
      "[  10  360  130 3000]\n"
     ]
    }
   ],
   "source": [
    "import numpy as np\n",
    "\n",
    "# Defining both the matrices\n",
    "a = np.array([5, 72, 13, 100])\n",
    "b = np.array([2, 5, 10, 30])\n",
    "\n",
    "# Performing multiplication using arithmetic operator\n",
    "mul_ans = a*b\n",
    "print(mul_ans)\n",
    "\n",
    "# Performing multiplication using numpy function\n",
    "mul_ans = np.multiply(a, b)\n",
    "print(mul_ans)\n"
   ]
  },
  {
   "cell_type": "markdown",
   "id": "a59d9576",
   "metadata": {},
   "source": [
    "### Division"
   ]
  },
  {
   "cell_type": "code",
   "execution_count": 4,
   "id": "5bed4936",
   "metadata": {},
   "outputs": [
    {
     "name": "stdout",
     "output_type": "stream",
     "text": [
      "[ 2.5        14.4         1.3         3.33333333]\n",
      "[ 2.5        14.4         1.3         3.33333333]\n"
     ]
    }
   ],
   "source": [
    "import numpy as np\n",
    "\n",
    "# Defining both the matrices\n",
    "a = np.array([5, 72, 13, 100])\n",
    "b = np.array([2, 5, 10, 30])\n",
    "\n",
    "# Performing division using arithmetic operators\n",
    "div_ans = a/b\n",
    "print(div_ans)\n",
    "\n",
    "# Performing division using numpy functions\n",
    "div_ans = np.divide(a, b)\n",
    "print(div_ans)\n"
   ]
  },
  {
   "cell_type": "markdown",
   "id": "73ae7235",
   "metadata": {},
   "source": [
    "### mod() and power() function"
   ]
  },
  {
   "cell_type": "code",
   "execution_count": 5,
   "id": "3e498d2f",
   "metadata": {},
   "outputs": [
    {
     "name": "stdout",
     "output_type": "stream",
     "text": [
      "[ 1  2  3 10]\n",
      "[ 1  2  3 10]\n",
      "[        25 1934917632  419538377          0]\n"
     ]
    }
   ],
   "source": [
    "# Performing mod on two matrices\n",
    "mod_ans = np.mod(a, b)\n",
    "print(mod_ans)\n",
    "\n",
    "#Performing remainder on two matrices\n",
    "rem_ans=np.remainder(a,b)\n",
    "print(rem_ans)\n",
    "\n",
    "# Performing power of two matrices\n",
    "pow_ans = np.power(a, b)\n",
    "print(pow_ans)\n"
   ]
  },
  {
   "cell_type": "markdown",
   "id": "d2be61a2",
   "metadata": {},
   "source": [
    "### Some aggregation and statistical functions"
   ]
  },
  {
   "cell_type": "code",
   "execution_count": 9,
   "id": "de57d472",
   "metadata": {},
   "outputs": [
    {
     "name": "stdout",
     "output_type": "stream",
     "text": [
      "5.0\n",
      "4.0\n",
      "20\n",
      "5.0\n"
     ]
    }
   ],
   "source": [
    "a = np.array([2,4,6,8])\n",
    "b = np.array([1,3,5,7])\n",
    "# Getting mean of all numbers in 'a'\n",
    "mean_a = np.mean(a)\n",
    "print(mean_a)\n",
    "\n",
    "# Getting average of all numbers in 'b'\n",
    "mean_b = np.average(b)\n",
    "print(mean_b)\n",
    "\n",
    "# Getting sum of all numbers in 'a'\n",
    "sum_a = np.sum(a)\n",
    "print(sum_a)\n",
    "\n",
    "# Getting variance of all number in 'b'\n",
    "var_b = np.var(b)\n",
    "print(var_b)\n"
   ]
  }
 ],
 "metadata": {
  "kernelspec": {
   "display_name": "Python 3",
   "language": "python",
   "name": "python3"
  },
  "language_info": {
   "codemirror_mode": {
    "name": "ipython",
    "version": 3
   },
   "file_extension": ".py",
   "mimetype": "text/x-python",
   "name": "python",
   "nbconvert_exporter": "python",
   "pygments_lexer": "ipython3",
   "version": "3.12.0"
  }
 },
 "nbformat": 4,
 "nbformat_minor": 5
}
