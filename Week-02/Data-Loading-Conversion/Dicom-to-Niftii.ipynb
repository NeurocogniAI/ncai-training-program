{
 "cells": [
  {
   "cell_type": "code",
   "execution_count": 2,
   "metadata": {},
   "outputs": [],
   "source": [
    "import os\n",
    "import pydicom\n",
    "import nibabel as nib\n",
    "import numpy as np\n",
    "from glob import glob\n",
    "from tqdm import tqdm"
   ]
  },
  {
   "cell_type": "code",
   "execution_count": 3,
   "metadata": {},
   "outputs": [],
   "source": [
    "\n",
    "def dicom_to_nifti(dicom_dir, output_path, reorient=True):\n",
    "    \"\"\"\n",
    "    Convert a directory of DICOM files to a single NIfTI file.\n",
    "    \n",
    "    Parameters:\n",
    "        dicom_dir (str): Path to directory containing DICOM files\n",
    "        output_path (str): Path for output NIfTI file (.nii or .nii.gz)\n",
    "        reorient (bool): Whether to reorient image to standard RAS+ orientation\n",
    "    \"\"\"\n",
    "    # Get all DICOM files in directory\n",
    "    dicom_files = sorted(glob(os.path.join(dicom_dir, \"*\")))\n",
    "    dicom_files = [f for f in dicom_files if not os.path.isdir(f)]\n",
    "    \n",
    "    if not dicom_files:\n",
    "        raise ValueError(f\"No DICOM files found in {dicom_dir}\")\n",
    "    \n",
    "    # Read DICOM files\n",
    "    dicoms = [pydicom.dcmread(f) for f in tqdm(dicom_files, desc=\"Reading DICOMs\")]\n",
    "    \n",
    "    # Skip non-image DICOMs (like RTSTRUCT)\n",
    "    dicoms = [d for d in dicoms if hasattr(d, 'pixel_array')]\n",
    "    \n",
    "    # Sort by instance number (or slice position if instance number missing)\n",
    "    try:\n",
    "        dicoms.sort(key=lambda x: int(x.InstanceNumber))\n",
    "    except:\n",
    "        dicoms.sort(key=lambda x: float(x.ImagePositionPatient[2]))\n",
    "    \n",
    "    # Get pixel data and metadata\n",
    "    pixel_arrays = [d.pixel_array for d in dicoms]\n",
    "    affine = np.eye(4)\n",
    "    \n",
    "    # Create 3D volume\n",
    "    volume = np.stack(pixel_arrays, axis=-1)\n",
    "    \n",
    "    # Get voxel dimensions from DICOM headers\n",
    "    try:\n",
    "        pixel_spacing = dicoms[0].PixelSpacing\n",
    "        slice_thickness = dicoms[0].SliceThickness\n",
    "        affine[0, 0] = float(pixel_spacing[0])\n",
    "        affine[1, 1] = float(pixel_spacing[1])\n",
    "        affine[2, 2] = float(slice_thickness)\n",
    "    except:\n",
    "        print(\"Warning: Could not extract voxel dimensions from DICOM headers\")\n",
    "    \n",
    "    # Create NIfTI image\n",
    "    nifti_img = nib.Nifti1Image(volume, affine)\n",
    "    \n",
    "    # Reorient to standard RAS+ if requested\n",
    "    if reorient:\n",
    "        nifti_img = nib.as_closest_canonical(nifti_img)\n",
    "    \n",
    "    # Save NIfTI file\n",
    "    nib.save(nifti_img, output_path)\n",
    "    print(f\"Successfully saved NIfTI file to {output_path}\")\n",
    "    "
   ]
  },
  {
   "cell_type": "code",
   "execution_count": 4,
   "metadata": {},
   "outputs": [
    {
     "name": "stderr",
     "output_type": "stream",
     "text": [
      "Reading DICOMs: 100%|██████████| 482/482 [00:01<00:00, 381.04it/s]\n"
     ]
    },
    {
     "name": "stdout",
     "output_type": "stream",
     "text": [
      "Successfully saved NIfTI file to dataset/mri-niftii/AdniNiftii.nii.gz\n"
     ]
    }
   ],
   "source": [
    "# Example usage\n",
    "dicom_directory = \"dataset/mri-dicom/\"  # Replace with your DICOM directory\n",
    "output_nifti = \"dataset/mri-niftii/AdniNiftii.nii.gz\"           # .nii or .nii.gz\n",
    "    \n",
    "dicom_to_nifti(dicom_directory, output_nifti)"
   ]
  }
 ],
 "metadata": {
  "kernelspec": {
   "display_name": "Python 3",
   "language": "python",
   "name": "python3"
  },
  "language_info": {
   "codemirror_mode": {
    "name": "ipython",
    "version": 3
   },
   "file_extension": ".py",
   "mimetype": "text/x-python",
   "name": "python",
   "nbconvert_exporter": "python",
   "pygments_lexer": "ipython3",
   "version": "3.12.0"
  }
 },
 "nbformat": 4,
 "nbformat_minor": 2
}
