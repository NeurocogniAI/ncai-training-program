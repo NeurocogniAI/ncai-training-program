{
 "cells": [
  {
   "cell_type": "code",
   "execution_count": 1,
   "metadata": {},
   "outputs": [],
   "source": [
    "import os\n",
    "import nibabel as nib\n",
    "import numpy as np\n",
    "import matplotlib.pyplot as plt\n",
    "from tqdm import tqdm\n",
    "from multiprocessing import Pool, cpu_count\n",
    "from PIL import Image"
   ]
  },
  {
   "cell_type": "code",
   "execution_count": 2,
   "metadata": {},
   "outputs": [],
   "source": [
    "def load_nii(file_path):\n",
    "    \"\"\"Load NIfTI file and return 3D volume data.\"\"\"\n",
    "    try:\n",
    "        img = nib.load(file_path)\n",
    "        data = img.get_fdata()\n",
    "        print(f\"Loaded volume shape: {data.shape}\")\n",
    "        return data\n",
    "    except Exception as e:\n",
    "        raise ValueError(f\"Error loading {file_path}: {str(e)}\")"
   ]
  },
  {
   "cell_type": "code",
   "execution_count": 4,
   "metadata": {},
   "outputs": [],
   "source": [
    "def normalize_slice(slice_data):\n",
    "    \"\"\"Normalize slice to 0-255 for image saving.\"\"\"\n",
    "    slice_data = (slice_data - np.min(slice_data)) / (np.max(slice_data) - np.min(slice_data)) * 255\n",
    "    return slice_data.astype(np.uint8)\n",
    "\n",
    "def save_slice(slice_data, output_dir, slice_idx, plane=\"axial\"):\n",
    "    \"\"\"Save a single slice as PNG.\"\"\"\n",
    "    os.makedirs(output_dir, exist_ok=True)\n",
    "    output_path = os.path.join(output_dir, f\"{plane}_slice_{slice_idx:04d}.png\")\n",
    "    Image.fromarray(slice_data).save(output_path)"
   ]
  },
  {
   "cell_type": "code",
   "execution_count": 5,
   "metadata": {},
   "outputs": [],
   "source": [
    "def process_volume(volume, output_dir, plane=\"axial\"):\n",
    "    \"\"\"Extract and save all slices from a 3D volume along a given plane.\"\"\"\n",
    "    if plane == \"axial\":\n",
    "        slices = [volume[:, :, i] for i in range(volume.shape[2])]\n",
    "    elif plane == \"coronal\":\n",
    "        slices = [volume[:, i, :] for i in range(volume.shape[1])]\n",
    "    elif plane == \"sagittal\":\n",
    "        slices = [volume[i, :, :] for i in range(volume.shape[0])]\n",
    "    else:\n",
    "        raise ValueError(\"Invalid plane. Choose: 'axial', 'coronal', or 'sagittal'\")\n",
    "\n",
    "    # Parallelize saving slices (faster for large volumes)\n",
    "    with Pool(cpu_count()) as pool:\n",
    "        args = [(normalize_slice(slice.T), output_dir, i, plane) for i, slice in enumerate(slices)]\n",
    "        pool.starmap(save_slice, tqdm(args, desc=f\"Saving {plane} slices\"))"
   ]
  },
  {
   "cell_type": "code",
   "execution_count": null,
   "metadata": {},
   "outputs": [
    {
     "name": "stdout",
     "output_type": "stream",
     "text": [
      "Loaded volume shape: (176, 256, 256)\n"
     ]
    },
    {
     "name": "stderr",
     "output_type": "stream",
     "text": [
      "C:\\Users\\Azam\\AppData\\Local\\Temp\\ipykernel_11496\\368745839.py:3: RuntimeWarning: invalid value encountered in divide\n",
      "  slice_data = (slice_data - np.min(slice_data)) / (np.max(slice_data) - np.min(slice_data)) * 255\n",
      "C:\\Users\\Azam\\AppData\\Local\\Temp\\ipykernel_11496\\368745839.py:4: RuntimeWarning: invalid value encountered in cast\n",
      "  return slice_data.astype(np.uint8)\n",
      "Saving axial slices: 100%|██████████| 256/256 [00:00<00:00, 379.46it/s]\n"
     ]
    }
   ],
   "source": [
    "# User inputs\n",
    "nii_file = \"dataset/subject01.nii\"  # Replace with your .nii path\n",
    "output_dir = \"output_slices\"         # Output folder\n",
    "plane = \"axial\"                     # Slice plane: \"axial\", \"coronal\", or \"sagittal\"\n",
    "\n",
    "# Load and process\n",
    "volume = load_nii(nii_file)\n",
    "process_volume(volume, output_dir, plane)\n",
    "print(f\"✅ All slices saved to: {output_dir}\")"
   ]
  }
 ],
 "metadata": {
  "kernelspec": {
   "display_name": "Python 3",
   "language": "python",
   "name": "python3"
  },
  "language_info": {
   "codemirror_mode": {
    "name": "ipython",
    "version": 3
   },
   "file_extension": ".py",
   "mimetype": "text/x-python",
   "name": "python",
   "nbconvert_exporter": "python",
   "pygments_lexer": "ipython3",
   "version": "3.12.2"
  }
 },
 "nbformat": 4,
 "nbformat_minor": 2
}
